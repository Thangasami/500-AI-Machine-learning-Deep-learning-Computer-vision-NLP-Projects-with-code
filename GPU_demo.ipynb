{
  "nbformat": 4,
  "nbformat_minor": 0,
  "metadata": {
    "colab": {
      "name": "GPU demo.ipynb",
      "provenance": [],
      "authorship_tag": "ABX9TyNwqzMg3Cxy8OlyOtg1683p",
      "include_colab_link": true
    },
    "kernelspec": {
      "name": "python3",
      "display_name": "Python 3"
    },
    "language_info": {
      "name": "python"
    },
    "accelerator": "GPU"
  },
  "cells": [
    {
      "cell_type": "markdown",
      "metadata": {
        "id": "view-in-github",
        "colab_type": "text"
      },
      "source": [
        "<a href=\"https://colab.research.google.com/github/Thangasami/500-AI-Machine-learning-Deep-learning-Computer-vision-NLP-Projects-with-code/blob/main/GPU_demo.ipynb\" target=\"_parent\"><img src=\"https://colab.research.google.com/assets/colab-badge.svg\" alt=\"Open In Colab\"/></a>"
      ]
    },
    {
      "cell_type": "code",
      "metadata": {
        "id": "PxisSZcf2J-B"
      },
      "source": [
        "import tensorflow as tf\n",
        "from tensorflow import keras\n",
        "import matplotlib.pyplot as plt\n",
        "import numpy as np"
      ],
      "execution_count": 6,
      "outputs": []
    },
    {
      "cell_type": "code",
      "metadata": {
        "colab": {
          "base_uri": "https://localhost:8080/"
        },
        "id": "Lr2j5HUh3H1A",
        "outputId": "b8c58c77-d721-4078-caac-d7b1d5b48473"
      },
      "source": [
        "tf.config.experimental.list_physical_devices()"
      ],
      "execution_count": 7,
      "outputs": [
        {
          "output_type": "execute_result",
          "data": {
            "text/plain": [
              "[PhysicalDevice(name='/physical_device:CPU:0', device_type='CPU'),\n",
              " PhysicalDevice(name='/physical_device:GPU:0', device_type='GPU')]"
            ]
          },
          "metadata": {
            "tags": []
          },
          "execution_count": 7
        }
      ]
    },
    {
      "cell_type": "code",
      "metadata": {
        "colab": {
          "base_uri": "https://localhost:8080/"
        },
        "id": "hE3jZB_-3H7Y",
        "outputId": "af69f839-f1f2-4b13-bfec-7694a8450dd3"
      },
      "source": [
        "print(tf.test.is_built_with_cuda()) \n",
        "print(tf.config.list_physical_devices('GPU'))"
      ],
      "execution_count": 3,
      "outputs": [
        {
          "output_type": "stream",
          "text": [
            "True\n",
            "[PhysicalDevice(name='/physical_device:GPU:0', device_type='GPU')]\n"
          ],
          "name": "stdout"
        }
      ]
    },
    {
      "cell_type": "code",
      "metadata": {
        "colab": {
          "base_uri": "https://localhost:8080/"
        },
        "id": "7MvdRyO63H-f",
        "outputId": "60804ecc-08a2-4a2f-b784-87dc7cadcfec"
      },
      "source": [
        "(X_train, y_train), (X_test, y_test) = tf.keras.datasets.cifar10.load_data()"
      ],
      "execution_count": 8,
      "outputs": [
        {
          "output_type": "stream",
          "text": [
            "Downloading data from https://www.cs.toronto.edu/~kriz/cifar-10-python.tar.gz\n",
            "170500096/170498071 [==============================] - 6s 0us/step\n"
          ],
          "name": "stdout"
        }
      ]
    },
    {
      "cell_type": "code",
      "metadata": {
        "id": "lK-K1gcY3IBN"
      },
      "source": [
        "def plot_sample(index):\n",
        "    plt.figure(figsize = (10, 1))\n",
        "    plt.imshow(X_test[index])"
      ],
      "execution_count": 9,
      "outputs": []
    },
    {
      "cell_type": "code",
      "metadata": {
        "colab": {
          "base_uri": "https://localhost:8080/",
          "height": 105
        },
        "id": "WjrlKPSJ3ID3",
        "outputId": "a6abd356-974f-4f55-a5ff-386f139c8d9b"
      },
      "source": [
        "plot_sample(1)"
      ],
      "execution_count": 26,
      "outputs": [
        {
          "output_type": "display_data",
          "data": {
            "image/png": "[encoded data removed]",
            "text/plain": [
              "<Figure size 720x72 with 1 Axes>"
            ]
          },
          "metadata": {
            "tags": [],
            "needs_background": "light"
          }
        }
      ]
    },
    {
      "cell_type": "code",
      "metadata": {
        "id": "c2lOw6mh3IGl"
      },
      "source": [
        "classes = ['airplane','auto','bird','cat','deer', 'dog', 'frog', 'horse', 'ship', 'truck']"
      ],
      "execution_count": 10,
      "outputs": []
    },
    {
      "cell_type": "code",
      "metadata": {
        "colab": {
          "base_uri": "https://localhost:8080/",
          "height": 35
        },
        "id": "W9uI7qmf3IJi",
        "outputId": "101e11d2-5cbd-44ec-f384-b25578ff7ce3"
      },
      "source": [
        "classes[y_train[3][0]]"
      ],
      "execution_count": 8,
      "outputs": [
        {
          "output_type": "execute_result",
          "data": {
            "application/vnd.google.colaboratory.intrinsic+json": {
              "type": "string"
            },
            "text/plain": [
              "'deer'"
            ]
          },
          "metadata": {
            "tags": []
          },
          "execution_count": 8
        }
      ]
    },
    {
      "cell_type": "code",
      "metadata": {
        "colab": {
          "base_uri": "https://localhost:8080/"
        },
        "id": "6t-P3XQI3IUv",
        "outputId": "f1c3d597-3d5b-4951-da4a-de9111852bd4"
      },
      "source": [
        "y_train[3]"
      ],
      "execution_count": 9,
      "outputs": [
        {
          "output_type": "execute_result",
          "data": {
            "text/plain": [
              "array([4], dtype=uint8)"
            ]
          },
          "metadata": {
            "tags": []
          },
          "execution_count": 9
        }
      ]
    },
    {
      "cell_type": "code",
      "metadata": {
        "id": "uXuHBu8O3iXh"
      },
      "source": [
        "strainx = X_train / 255\n",
        "stestx = X_test / 255"
      ],
      "execution_count": 11,
      "outputs": []
    },
    {
      "cell_type": "code",
      "metadata": {
        "colab": {
          "base_uri": "https://localhost:8080/"
        },
        "id": "PSECNsrS3iaf",
        "outputId": "fdba00a1-2b1a-43d5-e597-f057973eda46"
      },
      "source": [
        "y_train_categorical = keras.utils.to_categorical(\n",
        "    y_train, num_classes=10, dtype='float32'\n",
        ")\n",
        "y_train_categorical[:5]"
      ],
      "execution_count": 12,
      "outputs": [
        {
          "output_type": "execute_result",
          "data": {
            "text/plain": [
              "array([[0., 0., 0., 0., 0., 0., 1., 0., 0., 0.],\n",
              "       [0., 0., 0., 0., 0., 0., 0., 0., 0., 1.],\n",
              "       [0., 0., 0., 0., 0., 0., 0., 0., 0., 1.],\n",
              "       [0., 0., 0., 0., 1., 0., 0., 0., 0., 0.],\n",
              "       [0., 1., 0., 0., 0., 0., 0., 0., 0., 0.]], dtype=float32)"
            ]
          },
          "metadata": {
            "tags": []
          },
          "execution_count": 12
        }
      ]
    },
    {
      "cell_type": "code",
      "metadata": {
        "id": "lf6wriBN3idl"
      },
      "source": [
        "y_test_categorical = keras.utils.to_categorical(\n",
        "    y_test, num_classes=10, dtype='float32'\n",
        ")"
      ],
      "execution_count": 13,
      "outputs": []
    },
    {
      "cell_type": "code",
      "metadata": {
        "id": "ln_Rswmf3iga"
      },
      "source": [
        "model = keras.Sequential([\n",
        "    keras.layers.Flatten(input_shape=(32,32,3)),\n",
        "    keras.layers.Dense(6000, activation='relu'),\n",
        "    keras.layers.Dense(4000, activation='relu'),\n",
        "    keras.layers.Dense(1000, activation='relu'),\n",
        "    keras.layers.Dense(10, activation='sigmoid')\n",
        "])"
      ],
      "execution_count": 16,
      "outputs": []
    },
    {
      "cell_type": "code",
      "metadata": {
        "id": "Qmi6G66d3ijJ"
      },
      "source": [
        "model.compile(optimizer='SGD',\n",
        "              loss='categorical_crossentropy',\n",
        "              metrics=['accuracy']\n",
        "             )"
      ],
      "execution_count": 17,
      "outputs": []
    },
    {
      "cell_type": "code",
      "metadata": {
        "colab": {
          "base_uri": "https://localhost:8080/"
        },
        "id": "ha1_Jwkt3tOS",
        "outputId": "b614fda0-0bb7-4ef1-88c7-4506b432ae62"
      },
      "source": [
        "model.fit(strainx, y_train_categorical, epochs=50)"
      ],
      "execution_count": 18,
      "outputs": [
        {
          "output_type": "stream",
          "text": [
            "Epoch 1/50\n",
            "1563/1563 [==============================] - 17s 11ms/step - loss: 1.7954 - accuracy: 0.3595\n",
            "Epoch 2/50\n",
            "1563/1563 [==============================] - 17s 11ms/step - loss: 1.5958 - accuracy: 0.4334\n",
            "Epoch 3/50\n",
            "1563/1563 [==============================] - 17s 11ms/step - loss: 1.5093 - accuracy: 0.4668\n",
            "Epoch 4/50\n",
            "1563/1563 [==============================] - 17s 11ms/step - loss: 1.4408 - accuracy: 0.4913\n",
            "Epoch 5/50\n",
            "1563/1563 [==============================] - 17s 11ms/step - loss: 1.3865 - accuracy: 0.5102\n",
            "Epoch 6/50\n",
            "1563/1563 [==============================] - 17s 11ms/step - loss: 1.3369 - accuracy: 0.5283\n",
            "Epoch 7/50\n",
            "1563/1563 [==============================] - 17s 11ms/step - loss: 1.2928 - accuracy: 0.5438\n",
            "Epoch 8/50\n",
            "1563/1563 [==============================] - 17s 11ms/step - loss: 1.2488 - accuracy: 0.5582\n",
            "Epoch 9/50\n",
            "1563/1563 [==============================] - 17s 11ms/step - loss: 1.2095 - accuracy: 0.5759\n",
            "Epoch 10/50\n",
            "1563/1563 [==============================] - 17s 11ms/step - loss: 1.1708 - accuracy: 0.5903\n",
            "Epoch 11/50\n",
            "1563/1563 [==============================] - 17s 11ms/step - loss: 1.1311 - accuracy: 0.6036\n",
            "Epoch 12/50\n",
            "1563/1563 [==============================] - 17s 11ms/step - loss: 1.0955 - accuracy: 0.6171\n",
            "Epoch 13/50\n",
            "1563/1563 [==============================] - 17s 11ms/step - loss: 1.0554 - accuracy: 0.6318\n",
            "Epoch 14/50\n",
            "1563/1563 [==============================] - 17s 11ms/step - loss: 1.0175 - accuracy: 0.6452\n",
            "Epoch 15/50\n",
            "1563/1563 [==============================] - 17s 11ms/step - loss: 0.9777 - accuracy: 0.6571\n",
            "Epoch 16/50\n",
            "1563/1563 [==============================] - 17s 11ms/step - loss: 0.9420 - accuracy: 0.6699\n",
            "Epoch 17/50\n",
            "1563/1563 [==============================] - 17s 11ms/step - loss: 0.9033 - accuracy: 0.6845\n",
            "Epoch 18/50\n",
            "1563/1563 [==============================] - 17s 11ms/step - loss: 0.8648 - accuracy: 0.6990\n",
            "Epoch 19/50\n",
            "1563/1563 [==============================] - 17s 11ms/step - loss: 0.8271 - accuracy: 0.7126\n",
            "Epoch 20/50\n",
            "1563/1563 [==============================] - 17s 11ms/step - loss: 0.7848 - accuracy: 0.7277\n",
            "Epoch 21/50\n",
            "1563/1563 [==============================] - 17s 11ms/step - loss: 0.7457 - accuracy: 0.7414\n",
            "Epoch 22/50\n",
            "1563/1563 [==============================] - 17s 11ms/step - loss: 0.7075 - accuracy: 0.7568\n",
            "Epoch 23/50\n",
            "1563/1563 [==============================] - 17s 11ms/step - loss: 0.6709 - accuracy: 0.7696\n",
            "Epoch 24/50\n",
            "1563/1563 [==============================] - 17s 11ms/step - loss: 0.6292 - accuracy: 0.7839\n",
            "Epoch 25/50\n",
            "1563/1563 [==============================] - 17s 11ms/step - loss: 0.5894 - accuracy: 0.7986\n",
            "Epoch 26/50\n",
            "1563/1563 [==============================] - 17s 11ms/step - loss: 0.5560 - accuracy: 0.8090\n",
            "Epoch 27/50\n",
            "1563/1563 [==============================] - 17s 11ms/step - loss: 0.5168 - accuracy: 0.8266\n",
            "Epoch 28/50\n",
            "1563/1563 [==============================] - 17s 11ms/step - loss: 0.4851 - accuracy: 0.8383\n",
            "Epoch 29/50\n",
            "1563/1563 [==============================] - 17s 11ms/step - loss: 0.4448 - accuracy: 0.8506\n",
            "Epoch 30/50\n",
            "1563/1563 [==============================] - 17s 11ms/step - loss: 0.4149 - accuracy: 0.8609\n",
            "Epoch 31/50\n",
            "1563/1563 [==============================] - 17s 11ms/step - loss: 0.3848 - accuracy: 0.8718\n",
            "Epoch 32/50\n",
            "1563/1563 [==============================] - 17s 11ms/step - loss: 0.3540 - accuracy: 0.8842\n",
            "Epoch 33/50\n",
            "1563/1563 [==============================] - 17s 11ms/step - loss: 0.3204 - accuracy: 0.8970\n",
            "Epoch 34/50\n",
            "1563/1563 [==============================] - 17s 11ms/step - loss: 0.2959 - accuracy: 0.9037\n",
            "Epoch 35/50\n",
            "1563/1563 [==============================] - 17s 11ms/step - loss: 0.2668 - accuracy: 0.9160\n",
            "Epoch 36/50\n",
            "1563/1563 [==============================] - 17s 11ms/step - loss: 0.2471 - accuracy: 0.9209\n",
            "Epoch 37/50\n",
            "1563/1563 [==============================] - 17s 11ms/step - loss: 0.2195 - accuracy: 0.9332\n",
            "Epoch 38/50\n",
            "1563/1563 [==============================] - 17s 11ms/step - loss: 0.2034 - accuracy: 0.9367\n",
            "Epoch 39/50\n",
            "1563/1563 [==============================] - 17s 11ms/step - loss: 0.1789 - accuracy: 0.9469\n",
            "Epoch 40/50\n",
            "1563/1563 [==============================] - 17s 11ms/step - loss: 0.1607 - accuracy: 0.9517\n",
            "Epoch 41/50\n",
            "1563/1563 [==============================] - 17s 11ms/step - loss: 0.1501 - accuracy: 0.9551\n",
            "Epoch 42/50\n",
            "1563/1563 [==============================] - 17s 11ms/step - loss: 0.1334 - accuracy: 0.9617\n",
            "Epoch 43/50\n",
            "1563/1563 [==============================] - 17s 11ms/step - loss: 0.1252 - accuracy: 0.9649\n",
            "Epoch 44/50\n",
            "1563/1563 [==============================] - 17s 11ms/step - loss: 0.1018 - accuracy: 0.9713\n",
            "Epoch 45/50\n",
            "1563/1563 [==============================] - 17s 11ms/step - loss: 0.0901 - accuracy: 0.9756\n",
            "Epoch 46/50\n",
            "1563/1563 [==============================] - 17s 11ms/step - loss: 0.0836 - accuracy: 0.9779\n",
            "Epoch 47/50\n",
            "1563/1563 [==============================] - 17s 11ms/step - loss: 0.0680 - accuracy: 0.9825\n",
            "Epoch 48/50\n",
            "1563/1563 [==============================] - 17s 11ms/step - loss: 0.0762 - accuracy: 0.9802\n",
            "Epoch 49/50\n",
            "1563/1563 [==============================] - 17s 11ms/step - loss: 0.0529 - accuracy: 0.9870\n",
            "Epoch 50/50\n",
            "1563/1563 [==============================] - 17s 11ms/step - loss: 0.0737 - accuracy: 0.9820\n"
          ],
          "name": "stdout"
        },
        {
          "output_type": "execute_result",
          "data": {
            "text/plain": [
              "<tensorflow.python.keras.callbacks.History at 0x7fe930022110>"
            ]
          },
          "metadata": {
            "tags": []
          },
          "execution_count": 18
        }
      ]
    },
    {
      "cell_type": "code",
      "metadata": {
        "colab": {
          "base_uri": "https://localhost:8080/",
          "height": 35
        },
        "id": "fb3e28rp3tRN",
        "outputId": "47c36ef9-9a1b-4dcf-88eb-333b9a7e3df4"
      },
      "source": [
        "classes[np.argmax(model.predict(stestx)[67])]"
      ],
      "execution_count": 30,
      "outputs": [
        {
          "output_type": "execute_result",
          "data": {
            "application/vnd.google.colaboratory.intrinsic+json": {
              "type": "string"
            },
            "text/plain": [
              "'bird'"
            ]
          },
          "metadata": {
            "tags": []
          },
          "execution_count": 30
        }
      ]
    },
    {
      "cell_type": "code",
      "metadata": {
        "colab": {
          "base_uri": "https://localhost:8080/",
          "height": 166
        },
        "id": "sUxpDiuK3tTa",
        "outputId": "cbb10d3e-ac2c-49ea-8bcf-caf83d252d2e"
      },
      "source": [
        "model.evaluate(stestx, y_test_categorical)"
      ],
      "execution_count": 1,
      "outputs": [
        {
          "output_type": "error",
          "ename": "NameError",
          "evalue": "ignored",
          "traceback": [
            "\u001b[0;31m---------------------------------------------------------------------------\u001b[0m",
            "\u001b[0;31mNameError\u001b[0m                                 Traceback (most recent call last)",
            "\u001b[0;32m<ipython-input-1-cd1e7999c5b7>\u001b[0m in \u001b[0;36m<module>\u001b[0;34m()\u001b[0m\n\u001b[0;32m----> 1\u001b[0;31m \u001b[0mmodel\u001b[0m\u001b[0;34m.\u001b[0m\u001b[0mevaluate\u001b[0m\u001b[0;34m(\u001b[0m\u001b[0mstestx\u001b[0m\u001b[0;34m,\u001b[0m \u001b[0my_test_categorical\u001b[0m\u001b[0;34m)\u001b[0m\u001b[0;34m\u001b[0m\u001b[0;34m\u001b[0m\u001b[0m\n\u001b[0m",
            "\u001b[0;31mNameError\u001b[0m: name 'model' is not defined"
          ]
        }
      ]
    },
    {
      "cell_type": "code",
      "metadata": {
        "id": "T1TnHWZT3ts3"
      },
      "source": [
        "def get_model():\n",
        "    model = keras.Sequential([\n",
        "        keras.layers.Flatten(input_shape=(32,32,3)),\n",
        "        keras.layers.Dense(3000, activation='relu'),\n",
        "        keras.layers.Dense(1500, activation='relu'),\n",
        "        keras.layers.Dense(10, activation='sigmoid')\n",
        "    ])\n",
        "    model.compile(optimizer='SGD',\n",
        "                  loss='categorical_crossentropy',\n",
        "                  metrics=['accuracy'] )\n",
        "    return model"
      ],
      "execution_count": 18,
      "outputs": []
    },
    {
      "cell_type": "code",
      "metadata": {
        "colab": {
          "base_uri": "https://localhost:8080/"
        },
        "id": "a9t3q2oMv3Ur",
        "outputId": "36452116-81f3-4c0a-fabb-0c89503c0af5"
      },
      "source": [
        "%%timeit -n1 -r1\n",
        "with tf.device('/CPU:0'):\n",
        "  cpu_model = get_model()\n",
        "  cpu_model.fit(strainx, y_train_categorical, epochs=1)"
      ],
      "execution_count": 19,
      "outputs": [
        {
          "output_type": "stream",
          "text": [
            "1563/1563 [==============================] - 128s 82ms/step - loss: 1.8080 - accuracy: 0.3557\n",
            "1 loop, best of 1: 2min 23s per loop\n"
          ],
          "name": "stdout"
        }
      ]
    },
    {
      "cell_type": "code",
      "metadata": {
        "colab": {
          "base_uri": "https://localhost:8080/"
        },
        "id": "bNEv62sexM96",
        "outputId": "21490da8-c5a5-4839-ebbe-15304df87d5d"
      },
      "source": [
        "%%timeit -n1 -r1\n",
        "with tf.device('/GPU:0'):\n",
        "  cpu_model = get_model()\n",
        "  cpu_model.fit(strainx, y_train_categorical, epochs=1)"
      ],
      "execution_count": 20,
      "outputs": [
        {
          "output_type": "stream",
          "text": [
            "1563/1563 [==============================] - 16s 9ms/step - loss: 1.8062 - accuracy: 0.3597\n",
            "1 loop, best of 1: 16.3 s per loop\n"
          ],
          "name": "stdout"
        }
      ]
    },
    {
      "cell_type": "code",
      "metadata": {
        "id": "hy1DEr74v306"
      },
      "source": [
        ""
      ],
      "execution_count": null,
      "outputs": []
    },
    {
      "cell_type": "code",
      "metadata": {
        "id": "MEieMVY_v33d"
      },
      "source": [
        ""
      ],
      "execution_count": null,
      "outputs": []
    },
    {
      "cell_type": "code",
      "metadata": {
        "id": "EuhYOP543tvv"
      },
      "source": [
        ""
      ],
      "execution_count": null,
      "outputs": []
    }
  ]
}